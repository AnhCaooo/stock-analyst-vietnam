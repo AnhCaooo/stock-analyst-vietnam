{
 "cells": [
  {
   "cell_type": "code",
   "execution_count": null,
   "metadata": {},
   "outputs": [],
   "source": [
    "# Download needed packages \n",
    "!pip3 install -U vnstock3\n",
    "!pip3 install pandas\n",
    "!pip3 install openpyxl"
   ]
  },
  {
   "cell_type": "code",
   "execution_count": null,
   "metadata": {},
   "outputs": [],
   "source": [
    "import pandas as pd\n",
    "# Open Vnstock3 and accecpt default asking\n",
    "from vnstock3 import Vnstock\n",
    "import os\n",
    "from google.colab import files"
   ]
  },
  {
   "cell_type": "code",
   "execution_count": null,
   "metadata": {},
   "outputs": [],
   "source": [
    "# Initialize VN stock object from 'VCI' without giving any initial symbol \n",
    "stock = Vnstock().stock(source='VCI')\n"
   ]
  },
  {
   "cell_type": "code",
   "execution_count": null,
   "metadata": {},
   "outputs": [],
   "source": [
    "def clear_data_from_file(name): \n",
    "    if os.path.exists(name):\n",
    "        os.remove(name)\n"
   ]
  },
  {
   "cell_type": "code",
   "execution_count": null,
   "metadata": {},
   "outputs": [],
   "source": [
    "def append_to_file(name, data):\n",
    "    df_new = pd.DataFrame(data)\n",
    "    \n",
    "    try:\n",
    "        df_combined = df_new\n",
    "        # Save the combined data to Excel\n",
    "        df_new.to_excel(name, index=False)\n",
    "    \n",
    "    except FileNotFoundError:\n",
    "        # If file does not exist, create a new one\n",
    "        df_new.to_excel(name, index=False)"
   ]
  },
  {
   "cell_type": "code",
   "execution_count": null,
   "metadata": {},
   "outputs": [],
   "source": [
    "def get_filtered_prices(stock_df):\n",
    "  ''''\n",
    "  get price for first day of month. If the first day went on holidays, weekends, or does not have value, then get the valid day before.\n",
    "  '''\n",
    "\n",
    "  # Ensure the 'time' column is in datetime format\n",
    "  stock_df['time'] = pd.to_datetime(stock_df['time'])\n",
    "    \n",
    "  # Set 'time' as the index\n",
    "  stock_df.set_index('time', inplace=True)\n",
    "    \n",
    "  # Resample to monthly frequency, taking the first available entry\n",
    "  stock_filtered_df = stock_df.resample('MS').asfreq().ffill()\n",
    "\n",
    "  # Reset the index to bring 'time' back as a column (optional)\n",
    "  stock_filtered_df.reset_index(inplace=True)\n",
    "\n",
    "  return stock_filtered_df"
   ]
  },
  {
   "cell_type": "code",
   "execution_count": null,
   "metadata": {},
   "outputs": [],
   "source": [
    "excel_file = 'demo.xlsx'\n",
    "\n",
    "clear_data_from_file(excel_file)\n",
    "# List all stocks from VN30\n",
    "vn_stock_list = stock.listing.symbols_by_group('VN30')\n",
    "main_df = pd.DataFrame()\n",
    "\n",
    "for index in range(len(vn_stock_list)):\n",
    "\t# Stock price history from 15/04/2019 to 15/04/2024\n",
    "\tstock_history_df = stock.quote.history(symbol=vn_stock_list[index], start='2019-04-15', end='2024-04-15', interval='1D')\n",
    " \n",
    "\t# Filter out by first day of month\n",
    "\tstock_filtered_df = get_filtered_prices(stock_history_df)\n",
    "\t\n",
    "\t# Collect only time and close value \n",
    "\tstock_selected_df = stock_history_df[['time', 'close']]\n",
    "  \n",
    "\tdf_to_excel = pd.DataFrame({\n",
    "    \tvn_stock_list[index]: stock_selected_df['close']\n",
    "\t})\n",
    "\tmain_df = pd.concat([main_df, df_to_excel], axis=1)\n",
    "\n",
    "print(main_df)\n",
    "\n",
    "append_to_file(excel_file, main_df)\n",
    "\n",
    "# Download the file in Colab\n",
    "files.download(excel_file)\n"
   ]
  }
 ],
 "metadata": {
  "kernelspec": {
   "display_name": "Python 3",
   "language": "python",
   "name": "python3"
  },
  "language_info": {
   "codemirror_mode": {
    "name": "ipython",
    "version": 3
   },
   "file_extension": ".py",
   "mimetype": "text/x-python",
   "name": "python",
   "nbconvert_exporter": "python",
   "pygments_lexer": "ipython3",
   "version": "3.12.3"
  }
 },
 "nbformat": 4,
 "nbformat_minor": 2
}
