{
 "cells": [
  {
   "cell_type": "code",
   "execution_count": null,
   "metadata": {},
   "outputs": [],
   "source": [
    "# Download needed packages \n",
    "!pip install -U vnstock3\n",
    "!pip install pandas\n",
    "!pip install openpyxl"
   ]
  },
  {
   "cell_type": "code",
   "execution_count": null,
   "metadata": {},
   "outputs": [],
   "source": [
    "import pandas as pd\n",
    "# Open Vnstock3 and accecpt default asking\n",
    "from vnstock3 import Vnstock\n",
    "import os\n",
    "from google.colab import files"
   ]
  },
  {
   "cell_type": "code",
   "execution_count": null,
   "metadata": {},
   "outputs": [],
   "source": [
    "# Initialize VN stock object from 'VCI' without giving any initial symbol \n",
    "stock = Vnstock().stock(source='VCI')\n"
   ]
  },
  {
   "cell_type": "code",
   "execution_count": null,
   "metadata": {},
   "outputs": [],
   "source": [
    "def clear_data_from_file(name): \n",
    "    if os.path.exists(name):\n",
    "        os.remove(name)\n"
   ]
  },
  {
   "cell_type": "code",
   "execution_count": null,
   "metadata": {},
   "outputs": [],
   "source": [
    "def append_to_file(name, data):\n",
    "    df_new = pd.DataFrame(data)\n",
    "    \n",
    "    try:\n",
    "        df_combined = df_new\n",
    "        # Save the combined data to Excel\n",
    "        df_new.to_excel(name, index=False)\n",
    "    \n",
    "    except FileNotFoundError:\n",
    "        # If file does not exist, create a new one\n",
    "        df_new.to_excel(name, index=False)"
   ]
  },
  {
   "cell_type": "code",
   "execution_count": null,
   "metadata": {},
   "outputs": [],
   "source": [
    "def getFilteredPrices(stock_df):\n",
    "  ''''\n",
    "  get price for first day of month. If the first day went on holidays, weekends, or does not have value, then get the valid day before.\n",
    "  '''\n",
    "\n",
    "  # Ensure the 'time' column is in datetime format\n",
    "  stock_df['time'] = pd.to_datetime(stock_df['time'])\n",
    "    \n",
    "  # Set 'time' as the index\n",
    "  stock_df.set_index('time', inplace=True)\n",
    "    \n",
    "  # Resample to monthly frequency, taking the first available entry\n",
    "  stock_filtered_df = stock_df.resample('MS').asfreq().ffill()\n",
    "\n",
    "  # Reset the index to bring 'time' back as a column (optional)\n",
    "  stock_filtered_df.reset_index(inplace=True)\n",
    "\n",
    "  return stock_filtered_df"
   ]
  },
  {
   "cell_type": "code",
   "execution_count": null,
   "metadata": {},
   "outputs": [],
   "source": [
    "excel_file = 'demo.xlsx'\n",
    "\n",
    "clear_data_from_file(excel_file)\n",
    "\n",
    "# List all stocks from VN30\n",
    "vn_stock_list = stock.listing.symbols_by_group('VN30')\n",
    "\n",
    "for index in range(len(vn_stock_list)): \n",
    "\t# Stock price history from 15/04/2019 to 15/04/2024\n",
    "\tstock_history_df = stock.quote.history(symbol=vn_stock_list[index], start='2019-04-15', end='2024-04-15')\n",
    "\n",
    "\t# Filter out by first day of month\n",
    "\t# TODO: if price at that day is null, use day before\n",
    "\tstock_filtered_df = stock_history_df.loc[stock_history_df['time'].dt.day==1]\n",
    "  \n",
    "\t# Collect only time and close value \n",
    "\tstock_selected_df = stock_filtered_df[['time', 'close']]\n",
    "  \n",
    "\tdf_to_excel = {\n",
    "\t\t'time': stock_selected_df['time'],\n",
    "    \tvn_stock_list[index]: stock_selected_df['close']\n",
    "    }\n",
    "\n",
    "\tappend_to_file(excel_file, df_to_excel)\n",
    "\n",
    "# Download the file in Colab\n",
    "files.download(excel_file)"
   ]
  }
 ],
 "metadata": {
  "language_info": {
   "name": "python"
  }
 },
 "nbformat": 4,
 "nbformat_minor": 2
}
